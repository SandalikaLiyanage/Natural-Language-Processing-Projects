{
 "cells": [
  {
   "cell_type": "code",
   "execution_count": 1,
   "id": "92a37f9c-23ab-43c8-9fcd-d15f54d04f76",
   "metadata": {},
   "outputs": [],
   "source": [
    "words=[\"eating\", \"eats\", \"eaten\", \"writing\", \"writes\", \"programming\", \"programs\", \"history\",\"finally\", \"finalizd\"]"
   ]
  },
  {
   "cell_type": "code",
   "execution_count": 15,
   "id": "4b0c01bf-da4a-442c-a1d4-b9f1d1b965d9",
   "metadata": {},
   "outputs": [],
   "source": [
    "#porterstemmer- a stemming technique\n",
    "from nltk.stem import PorterStemmer #object creation"
   ]
  },
  {
   "cell_type": "code",
   "execution_count": 17,
   "id": "92fccf19-48c4-4192-9d0c-8626748398f4",
   "metadata": {},
   "outputs": [],
   "source": [
    "stemming=PorterStemmer()"
   ]
  },
  {
   "cell_type": "code",
   "execution_count": 19,
   "id": "c6e1a8ef-4ff8-4dda-bb90-e9ff120db17a",
   "metadata": {},
   "outputs": [
    {
     "name": "stdout",
     "output_type": "stream",
     "text": [
      "eating----->eat\n",
      "eats----->eat\n",
      "eaten----->eaten\n",
      "writing----->write\n",
      "writes----->write\n",
      "programming----->program\n",
      "programs----->program\n",
      "history----->histori\n",
      "finally----->final\n",
      "finalizd----->finalizd\n"
     ]
    }
   ],
   "source": [
    "for word in words:\n",
    "    print(word + \"----->\" +stemming.stem(word))"
   ]
  },
  {
   "cell_type": "code",
   "execution_count": 21,
   "id": "b68451c3-e049-4307-8bb8-4a075f82a543",
   "metadata": {},
   "outputs": [],
   "source": [
    "from nltk.stem import RegexpStemmer\n",
    "reg_stemmer = RegexpStemmer('ing$|s$|e$|label$', min=4)#any substring that match these regular expressions/affixes will get removed"
   ]
  },
  {
   "cell_type": "code",
   "execution_count": 23,
   "id": "4470e147-c8a0-4372-8020-b5330efd75b8",
   "metadata": {},
   "outputs": [
    {
     "data": {
      "text/plain": [
       "'eat'"
      ]
     },
     "execution_count": 23,
     "metadata": {},
     "output_type": "execute_result"
    }
   ],
   "source": [
    "reg_stemmer.stem('eating')"
   ]
  },
  {
   "cell_type": "code",
   "execution_count": 25,
   "id": "357b4e94-8726-4813-bec1-57f8de19f34f",
   "metadata": {},
   "outputs": [
    {
     "data": {
      "text/plain": [
       "'ingeat'"
      ]
     },
     "execution_count": 25,
     "metadata": {},
     "output_type": "execute_result"
    }
   ],
   "source": [
    "reg_stemmer.stem('ingeating')"
   ]
  },
  {
   "cell_type": "code",
   "execution_count": 27,
   "id": "ae65c54a-dbcf-40e4-bbd4-b06dcb26f8ac",
   "metadata": {},
   "outputs": [],
   "source": [
    "#snowballstemmer- a stemming technique better than porter stemmer.\n",
    "from nltk.stem import SnowballStemmer"
   ]
  },
  {
   "cell_type": "code",
   "execution_count": 29,
   "id": "1d1846f4-4d19-4e52-9ddb-73fbfa4fee88",
   "metadata": {},
   "outputs": [],
   "source": [
    "snowballStemmer=SnowballStemmer('english')# this supports different languages"
   ]
  },
  {
   "cell_type": "code",
   "execution_count": null,
   "id": "4b93b023-8271-49ca-a896-1bd8d8f6a999",
   "metadata": {},
   "outputs": [],
   "source": [
    "for word in words:\n",
    "    print(word+\"---->\"+snowballstemmer.stem"
   ]
  }
 ],
 "metadata": {
  "kernelspec": {
   "display_name": "Python 3 (ipykernel)",
   "language": "python",
   "name": "python3"
  },
  "language_info": {
   "codemirror_mode": {
    "name": "ipython",
    "version": 3
   },
   "file_extension": ".py",
   "mimetype": "text/x-python",
   "name": "python",
   "nbconvert_exporter": "python",
   "pygments_lexer": "ipython3",
   "version": "3.11.7"
  }
 },
 "nbformat": 4,
 "nbformat_minor": 5
}
